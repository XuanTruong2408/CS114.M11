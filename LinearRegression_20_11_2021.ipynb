{
  "cells": [
    {
      "cell_type": "code",
      "execution_count": 3,
      "metadata": {
        "id": "IAQLyVbpJ_xW"
      },
      "outputs": [],
      "source": [
        "import pandas as pd\n",
        "import numpy as np\n",
        "import matplotlib.pyplot as plt\n"
      ]
    },
    {
      "cell_type": "code",
      "execution_count": 4,
      "metadata": {
        "colab": {
          "base_uri": "https://localhost:8080/",
          "height": 204
        },
        "id": "3XW406eNKCfX",
        "outputId": "23dbb37e-5268-45be-ff70-a891b1d95b74"
      },
      "outputs": [
        {
          "data": {
            "text/html": [
              "<div>\n",
              "<style scoped>\n",
              "    .dataframe tbody tr th:only-of-type {\n",
              "        vertical-align: middle;\n",
              "    }\n",
              "\n",
              "    .dataframe tbody tr th {\n",
              "        vertical-align: top;\n",
              "    }\n",
              "\n",
              "    .dataframe thead th {\n",
              "        text-align: right;\n",
              "    }\n",
              "</style>\n",
              "<table border=\"1\" class=\"dataframe\">\n",
              "  <thead>\n",
              "    <tr style=\"text-align: right;\">\n",
              "      <th></th>\n",
              "      <th>Numbers of input</th>\n",
              "      <th>Execution time</th>\n",
              "    </tr>\n",
              "  </thead>\n",
              "  <tbody>\n",
              "    <tr>\n",
              "      <th>0</th>\n",
              "      <td>6083695</td>\n",
              "      <td>0.521842</td>\n",
              "    </tr>\n",
              "    <tr>\n",
              "      <th>1</th>\n",
              "      <td>1954367</td>\n",
              "      <td>0.152648</td>\n",
              "    </tr>\n",
              "    <tr>\n",
              "      <th>2</th>\n",
              "      <td>3734185</td>\n",
              "      <td>0.298548</td>\n",
              "    </tr>\n",
              "    <tr>\n",
              "      <th>3</th>\n",
              "      <td>5839301</td>\n",
              "      <td>0.460480</td>\n",
              "    </tr>\n",
              "    <tr>\n",
              "      <th>4</th>\n",
              "      <td>6343427</td>\n",
              "      <td>0.527977</td>\n",
              "    </tr>\n",
              "  </tbody>\n",
              "</table>\n",
              "</div>"
            ],
            "text/plain": [
              "   Numbers of input  Execution time\n",
              "0           6083695        0.521842\n",
              "1           1954367        0.152648\n",
              "2           3734185        0.298548\n",
              "3           5839301        0.460480\n",
              "4           6343427        0.527977"
            ]
          },
          "execution_count": 4,
          "metadata": {},
          "output_type": "execute_result"
        }
      ],
      "source": [
        "# đọc file dữ liệu và thể hiện thành dạng cột\n",
        "colnames = ['Numbers of input', 'Execution time']\n",
        "\n",
        "data_to_train = pd.read_csv(\"http://cs.uit.edu.vn/data2.txt\", names = colnames, header = None)\n",
        "\n",
        "data_to_test = pd.read_csv(\"http://cs.uit.edu.vn/data3.txt\", names = colnames, header = None)\n",
        "\n",
        "data_to_train.head()"
      ]
    },
    {
      "cell_type": "code",
      "execution_count": 5,
      "metadata": {
        "colab": {
          "base_uri": "https://localhost:8080/",
          "height": 204
        },
        "id": "TtOm_e9FKEn-",
        "outputId": "de22d9f3-2a96-4951-fb22-36b6fc60e743"
      },
      "outputs": [
        {
          "data": {
            "text/html": [
              "<div>\n",
              "<style scoped>\n",
              "    .dataframe tbody tr th:only-of-type {\n",
              "        vertical-align: middle;\n",
              "    }\n",
              "\n",
              "    .dataframe tbody tr th {\n",
              "        vertical-align: top;\n",
              "    }\n",
              "\n",
              "    .dataframe thead th {\n",
              "        text-align: right;\n",
              "    }\n",
              "</style>\n",
              "<table border=\"1\" class=\"dataframe\">\n",
              "  <thead>\n",
              "    <tr style=\"text-align: right;\">\n",
              "      <th></th>\n",
              "      <th>Numbers of input</th>\n",
              "      <th>Execution time</th>\n",
              "    </tr>\n",
              "  </thead>\n",
              "  <tbody>\n",
              "    <tr>\n",
              "      <th>0</th>\n",
              "      <td>37837612</td>\n",
              "      <td>4.12166</td>\n",
              "    </tr>\n",
              "    <tr>\n",
              "      <th>1</th>\n",
              "      <td>37395246</td>\n",
              "      <td>3.92089</td>\n",
              "    </tr>\n",
              "    <tr>\n",
              "      <th>2</th>\n",
              "      <td>36610827</td>\n",
              "      <td>3.21540</td>\n",
              "    </tr>\n",
              "    <tr>\n",
              "      <th>3</th>\n",
              "      <td>29555651</td>\n",
              "      <td>2.54506</td>\n",
              "    </tr>\n",
              "    <tr>\n",
              "      <th>4</th>\n",
              "      <td>25928216</td>\n",
              "      <td>2.21831</td>\n",
              "    </tr>\n",
              "  </tbody>\n",
              "</table>\n",
              "</div>"
            ],
            "text/plain": [
              "   Numbers of input  Execution time\n",
              "0          37837612         4.12166\n",
              "1          37395246         3.92089\n",
              "2          36610827         3.21540\n",
              "3          29555651         2.54506\n",
              "4          25928216         2.21831"
            ]
          },
          "execution_count": 5,
          "metadata": {},
          "output_type": "execute_result"
        }
      ],
      "source": [
        "data_to_test.head()"
      ]
    },
    {
      "cell_type": "code",
      "execution_count": 6,
      "metadata": {
        "id": "yeiey2QTKG6P"
      },
      "outputs": [],
      "source": [
        "#phân chia dữ liệu trên tập train\n",
        "x_train_data = np.array(data_to_train['Numbers of input']).reshape(-1,1)\n",
        "y_train_data = np.array(data_to_train['Execution time']) \n",
        "#phân chia dữ liệu trên tập test\n",
        "x_test_data = np.array(data_to_test['Numbers of input']).reshape(-1, 1)\n",
        "y_test_data = np.array(data_to_test['Execution time'])"
      ]
    },
    {
      "cell_type": "code",
      "execution_count": 7,
      "metadata": {
        "colab": {
          "base_uri": "https://localhost:8080/",
          "height": 279
        },
        "id": "rn9m50R5KIu9",
        "outputId": "7866319f-dbcd-4e38-8167-fdd44702a29f"
      },
      "outputs": [
        {
          "data": {
            "image/png": "[encoded data removed]",
            "text/plain": [
              "<Figure size 432x288 with 1 Axes>"
            ]
          },
          "metadata": {
            "needs_background": "light"
          },
          "output_type": "display_data"
        }
      ],
      "source": [
        "# hiển thị dữ liệu file data2.txt\n",
        "plt.plot(x_train_data, y_train_data, '.')\n",
        "plt.xlabel('Numbers of input')\n",
        "plt.ylabel('Execution time')\n",
        "plt.show()"
      ]
    },
    {
      "cell_type": "code",
      "execution_count": 8,
      "metadata": {
        "colab": {
          "base_uri": "https://localhost:8080/",
          "height": 279
        },
        "id": "LhzpIU-jKKYE",
        "outputId": "60b62b44-8190-47eb-f02d-099ffc9cf2e1"
      },
      "outputs": [
        {
          "data": {
            "image/png": "[encoded data removed]",
            "text/plain": [
              "<Figure size 432x288 with 1 Axes>"
            ]
          },
          "metadata": {
            "needs_background": "light"
          },
          "output_type": "display_data"
        }
      ],
      "source": [
        "# hiển thị dữ liệu file data3.txt\n",
        "plt.plot(x_test_data, y_test_data, '.')\n",
        "plt.xlabel('Numbers of input')\n",
        "plt.ylabel('Execution time')\n",
        "plt.show()"
      ]
    },
    {
      "cell_type": "markdown",
      "metadata": {
        "id": "8cxmw2NJLuEq"
      },
      "source": [
        "# Train model\n"
      ]
    },
    {
      "cell_type": "code",
      "execution_count": 9,
      "metadata": {
        "id": "RUTgOfmgKMMk"
      },
      "outputs": [],
      "source": [
        "from sklearn.model_selection import train_test_split\n",
        "from sklearn.linear_model import LinearRegression\n",
        "from sklearn.metrics import mean_squared_error\n",
        "from sklearn.metrics import mean_absolute_error\n",
        "from sklearn.metrics import r2_score\n",
        "\n",
        "\n",
        "#tạo model\n",
        "lr = LinearRegression().fit(x_train_data, y_train_data)\n"
      ]
    },
    {
      "cell_type": "code",
      "execution_count": 14,
      "metadata": {
        "colab": {
          "base_uri": "https://localhost:8080/"
        },
        "id": "XP2YMEZBPJ6d",
        "outputId": "d8d850f6-b972-4bcd-cef2-dcd84f1f3f13"
      },
      "outputs": [
        {
          "name": "stdout",
          "output_type": "stream",
          "text": [
            "mean squared error data2.txt:  0.00014337728721748832\n",
            "Coefficient of determination data2.txt:  0.9975924993345858\n"
          ]
        }
      ],
      "source": [
        "#tính toán độ lỗi của model trên tập dữ liệu train\n",
        "print(\"mean squared error data2.txt: \",mean_squared_error(y_train_data, lr.predict(x_train_data)))\n",
        "# tính toán hệ số ước lượng coefficient of determination: 1 is perfect prediction\n",
        "print(\"Coefficient of determination data2.txt: \",r2_score(y_train_data, lr.predict(x_train_data)))"
      ]
    },
    {
      "cell_type": "code",
      "execution_count": 11,
      "metadata": {
        "colab": {
          "base_uri": "https://localhost:8080/",
          "height": 295
        },
        "id": "CaqrdBIGLtTz",
        "outputId": "b5f5f736-b56e-4b3d-fb4a-4348edfbf760"
      },
      "outputs": [
        {
          "data": {
            "image/png": "[encoded data removed]",
            "text/plain": [
              "<Figure size 432x288 with 1 Axes>"
            ]
          },
          "metadata": {
            "needs_background": "light"
          },
          "output_type": "display_data"
        }
      ],
      "source": [
        "# hiển thị kết quả của việc train\n",
        "plt.plot(x_train_data, y_train_data, \".\")\n",
        "plt.plot(x_train_data, lr.predict(x_train_data))\n",
        "plt.title(\"Display data traning data2.txt\")\n",
        "plt.xlabel('Numbers of Input')\n",
        "plt.ylabel('Excecution time')\n",
        "plt.show()"
      ]
    },
    {
      "cell_type": "markdown",
      "metadata": {},
      "source": [
        "# Test model"
      ]
    },
    {
      "cell_type": "code",
      "execution_count": 12,
      "metadata": {
        "colab": {
          "base_uri": "https://localhost:8080/",
          "height": 295
        },
        "id": "mDfEokqYPqLS",
        "outputId": "e3732e46-f0f6-4480-a06d-9cee342dc663"
      },
      "outputs": [
        {
          "data": {
            "image/png": "[encoded data removed]",
            "text/plain": [
              "<Figure size 432x288 with 1 Axes>"
            ]
          },
          "metadata": {
            "needs_background": "light"
          },
          "output_type": "display_data"
        }
      ],
      "source": [
        "# hiển thị kết quả của việc test\n",
        "\n",
        "plt.plot(x_test_data, y_test_data, \".\")\n",
        "plt.plot(x_test_data, lr.predict(x_test_data))\n",
        "plt.title(\"Display data testing data3.txt\")\n",
        "plt.xlabel('Numbers of Input')\n",
        "plt.ylabel('Excecution time')\n",
        "plt.show()"
      ]
    },
    {
      "cell_type": "code",
      "execution_count": 15,
      "metadata": {
        "colab": {
          "base_uri": "https://localhost:8080/"
        },
        "id": "k9M_5EuWPg-R",
        "outputId": "98f2bb58-ae06-4835-cbf8-c5340c2c8845"
      },
      "outputs": [
        {
          "name": "stdout",
          "output_type": "stream",
          "text": [
            "mean squared error data3.txt:  0.020664949397550484\n",
            "Coefficient of determination data3.txt:  0.9284132208349405\n"
          ]
        }
      ],
      "source": [
        "#tính toán độ lỗi của model trên tập dữ liệu test\n",
        "print(\"mean squared error data3.txt: \",mean_squared_error(y_test_data, lr.predict(x_test_data)))\n",
        "# tính toán hệ số ước lượng coefficient of determination: 1 is perfect prediction\n",
        "print(\"Coefficient of determination data3.txt: \",r2_score(y_test_data, lr.predict(x_test_data)))"
      ]
    },
    {
      "cell_type": "markdown",
      "metadata": {},
      "source": [
        "### Đánh giá:\n",
        "- Số lượng input (Numbers of Input) càng lớn thì thời gian chạy (Excecution time) càng lâu.\n",
        "- Mean Squared Error (MSE) có giá trị khá nhỏ do giá trị y (Excecution Time) ban đầu đều khá nhỏ.\n",
        "- Dữ liệu tập train khá sát nhau, còn dữ liệu tập test chứa nhiều dữ liệu nhiễu phân tán ra xa thưa thớt. Vì vậy cho nên khi Test sẽ không xử lí được những dữ liệu ở xa.\n",
        "- Cách khắc phục là nên tăng tính đa dạng, bao quát nhiều trường hợp khách quan hơn cho tập dữ liệu train hơn nữa."
      ]
    }
  ],
  "metadata": {
    "colab": {
      "collapsed_sections": [],
      "name": "Untitled1.ipynb",
      "provenance": []
    },
    "kernelspec": {
      "display_name": "Python 3",
      "name": "python3"
    },
    "language_info": {
      "codemirror_mode": {
        "name": "ipython",
        "version": 3
      },
      "file_extension": ".py",
      "mimetype": "text/x-python",
      "name": "python",
      "nbconvert_exporter": "python",
      "pygments_lexer": "ipython3",
      "version": "3.9.7"
    }
  },
  "nbformat": 4,
  "nbformat_minor": 0
}
